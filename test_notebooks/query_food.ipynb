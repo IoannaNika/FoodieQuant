{
 "cells": [
  {
   "cell_type": "code",
   "execution_count": 17,
   "id": "e45d7fbb",
   "metadata": {},
   "outputs": [],
   "source": [
    "import keras\n",
    "import numpy as np\n",
    "import cv2"
   ]
  },
  {
   "cell_type": "code",
   "execution_count": 18,
   "id": "12f433a5",
   "metadata": {},
   "outputs": [],
   "source": [
    "model = keras.models.load_model(\"model.h5\")"
   ]
  },
  {
   "cell_type": "code",
   "execution_count": null,
   "id": "f3a225da",
   "metadata": {},
   "outputs": [],
   "source": [
    "import os\n",
    "from os import listdir\n",
    "from os.path import isfile, join\n",
    "from tqdm import tqdm\n",
    "import tensorflow as tf\n",
    "\n",
    "labels = sorted([(lambda x: x[0][11:])(x) for x in os.walk(\"validation/\")])[1:]\n",
    "print(\"Labels\", labels)\n",
    "\n",
    "correct = 0\n",
    "total = 0\n",
    "\n",
    "for i, c in tqdm(enumerate(labels)):\n",
    "    path = \"validation/\" + c\n",
    "    images = [f for f in listdir(path) if isfile(join(path, f))]\n",
    "    \n",
    "    for img in images:\n",
    "        print(img)\n",
    "        full_path = path + \"/\" + img\n",
    "        \n",
    "        image = cv2.imread(full_path)\n",
    "        image = cv2.resize(image, (300, 300), interpolation = cv2.INTER_AREA)\n",
    "        image = np.expand_dims(image, axis=0)\n",
    "        \n",
    "        prediction = tf.stop_gradient(model.predict(image))\n",
    "        \n",
    "        print(c, labels[np.argsort(prediction[0])[-2]])\n",
    "        \n",
    "        if c == labels[np.argsort(prediction[0])[-2]]:\n",
    "            correct += 1\n",
    "            \n",
    "        total += 1\n",
    "        \n",
    "print(\"Accuracy:\", float(correct)/total)\n"
   ]
  },
  {
   "cell_type": "code",
   "execution_count": 39,
   "id": "e719f602",
   "metadata": {},
   "outputs": [
    {
     "name": "stdout",
     "output_type": "stream",
     "text": [
      "Prediction: sauce\n"
     ]
    }
   ],
   "source": [
    "print(\"Prediction:\", labels[prediction.argmax(axis=-1)[0]])"
   ]
  },
  {
   "cell_type": "code",
   "execution_count": 5,
   "id": "869d1798",
   "metadata": {},
   "outputs": [],
   "source": [
    "import pandas as pd\n",
    "\n",
    "path_to_db = \"...\" # Path to DB is needed\n",
    "food_data = pd.read_csv(path_to_db + \"food.csv\", index_col=\"fdc_id\")"
   ]
  },
  {
   "cell_type": "code",
   "execution_count": 55,
   "id": "a303944e",
   "metadata": {},
   "outputs": [],
   "source": [
    "import requests\n",
    "import json\n",
    "\n",
    "food_name = \"Olive oil\"\n",
    "api_key = \"...\" # API key is needed\n",
    "response = json.loads(requests.get('https://api.nal.usda.gov/fdc/v1/foods/search?api_key={}&query={}'.format(api_key, food_name)).text)"
   ]
  },
  {
   "cell_type": "code",
   "execution_count": 56,
   "id": "ebad0e1e",
   "metadata": {},
   "outputs": [
    {
     "name": "stdout",
     "output_type": "stream",
     "text": [
      "Per 100 G \n",
      "-----\n",
      "Protein | 0.0 G\n",
      "Total lipid (fat) | 100 G\n",
      "Carbohydrate, by difference | 0.0 G\n",
      "Energy | 900 KCAL\n",
      "Alcohol, ethyl | 0.0 G\n",
      "Water | 0.0 G\n",
      "Caffeine | 0.0 MG\n",
      "Theobromine | 0.0 MG\n",
      "Sugars, total including NLEA | 0.0 G\n",
      "Fiber, total dietary | 0.0 G\n",
      "Calcium, Ca | 1.0 MG\n",
      "Iron, Fe | 0.56 MG\n",
      "Magnesium, Mg | 0.0 MG\n",
      "Phosphorus, P | 0.0 MG\n",
      "Potassium, K | 1.0 MG\n",
      "Sodium, Na | 2.0 MG\n",
      "Zinc, Zn | 0.0 MG\n",
      "Copper, Cu | 0.0 MG\n",
      "Selenium, Se | 0.0 UG\n",
      "Retinol | 0.0 UG\n",
      "Vitamin A, RAE | 0.0 UG\n",
      "Carotene, beta | 0.0 UG\n",
      "Carotene, alpha | 0.0 UG\n",
      "Vitamin E (alpha-tocopherol) | 20.9 MG\n",
      "Vitamin D (D2 + D3) | 0.0 UG\n",
      "Cryptoxanthin, beta | 0.0 UG\n",
      "Lycopene | 0.0 UG\n",
      "Lutein + zeaxanthin | 0.0 UG\n",
      "Vitamin C, total ascorbic acid | 0.0 MG\n",
      "Thiamin | 0.0 MG\n",
      "Riboflavin | 0.0 MG\n",
      "Niacin | 0.0 MG\n",
      "Vitamin B-6 | 0.0 MG\n",
      "Folate, total | 0.0 UG\n",
      "Vitamin B-12 | 0.0 UG\n",
      "Choline, total | 0.3 MG\n",
      "Vitamin K (phylloquinone) | 26.0 UG\n",
      "Folic acid | 0.0 UG\n",
      "Folate, food | 0.0 UG\n",
      "Folate, DFE | 0.0 UG\n",
      "Vitamin E, added | 0.0 MG\n",
      "Vitamin B-12, added | 0.0 UG\n",
      "Cholesterol | 0.0 MG\n",
      "Fatty acids, total saturated | 15.5 G\n",
      "SFA 4:0 | 0.001 G\n",
      "SFA 6:0 | 0.0 G\n",
      "SFA 8:0 | 0.001 G\n",
      "SFA 10:0 | 0.001 G\n",
      "SFA 12:0 | 0.001 G\n",
      "SFA 14:0 | 0.013 G\n",
      "SFA 16:0 | 12.2 G\n",
      "SFA 18:0 | 2.62 G\n",
      "MUFA 18:1 | 67.0 G\n",
      "PUFA 18:2 | 8.82 G\n",
      "PUFA 18:3 | 0.638 G\n",
      "PUFA 20:4 | 0.013 G\n",
      "PUFA 22:6 n-3 (DHA) | 0.0 G\n",
      "MUFA 16:1 | 1.07 G\n",
      "PUFA 18:4 | 0.0 G\n",
      "MUFA 20:1 | 0.284 G\n",
      "PUFA 20:5 n-3 (EPA) | 0.0 G\n",
      "MUFA 22:1 | 0.001 G\n",
      "PUFA 22:5 n-3 (DPA) | 0.0 G\n",
      "Fatty acids, total monounsaturated | 68.4 G\n",
      "Fatty acids, total polyunsaturated | 9.47 G\n"
     ]
    }
   ],
   "source": [
    "nutrients = response[\"foods\"][0][\"foodNutrients\"]\n",
    "print(\"Per 100 G\", \"\\n-----\")\n",
    "for nutrient in nutrients:\n",
    "    print(nutrient[\"nutrientName\"], \"|\", nutrient[\"value\"], nutrient[\"unitName\"])"
   ]
  }
 ],
 "metadata": {
  "kernelspec": {
   "display_name": "comp_vis",
   "language": "python",
   "name": "comp_vis"
  },
  "language_info": {
   "codemirror_mode": {
    "name": "ipython",
    "version": 3
   },
   "file_extension": ".py",
   "mimetype": "text/x-python",
   "name": "python",
   "nbconvert_exporter": "python",
   "pygments_lexer": "ipython3",
   "version": "3.11.3"
  }
 },
 "nbformat": 4,
 "nbformat_minor": 5
}
